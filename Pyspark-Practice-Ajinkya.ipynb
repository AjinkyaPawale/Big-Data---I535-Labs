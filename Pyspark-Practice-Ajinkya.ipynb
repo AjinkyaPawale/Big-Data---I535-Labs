{
 "cells": [
  {
   "cell_type": "code",
   "execution_count": 123,
   "metadata": {
    "scrolled": true
   },
   "outputs": [
    {
     "name": "stdout",
     "output_type": "stream",
     "text": [
      "Collecting pandas\n",
      "  Using cached https://files.pythonhosted.org/packages/c3/e2/00cacecafbab071c787019f00ad84ca3185952f6bb9bca9550ed83870d4d/pandas-1.1.5-cp36-cp36m-manylinux1_x86_64.whl\n",
      "Collecting numpy>=1.15.4 (from pandas)\n",
      "  Using cached https://files.pythonhosted.org/packages/45/b2/6c7545bb7a38754d63048c7696804a0d947328125d81bf12beaa692c3ae3/numpy-1.19.5-cp36-cp36m-manylinux1_x86_64.whl\n",
      "Collecting pytz>=2017.2 (from pandas)\n",
      "  Using cached https://files.pythonhosted.org/packages/d3/e3/d9f046b5d1c94a3aeab15f1f867aa414f8ee9d196fae6865f1d6a0ee1a0b/pytz-2021.3-py2.py3-none-any.whl\n",
      "Collecting python-dateutil>=2.7.3 (from pandas)\n",
      "  Using cached https://files.pythonhosted.org/packages/36/7a/87837f39d0296e723bb9b62bbb257d0355c7f6128853c78955f57342a56d/python_dateutil-2.8.2-py2.py3-none-any.whl\n",
      "Collecting six>=1.5 (from python-dateutil>=2.7.3->pandas)\n",
      "  Using cached https://files.pythonhosted.org/packages/d9/5a/e7c31adbe875f2abbb91bd84cf2dc52d792b5a01506781dbcf25c91daf11/six-1.16.0-py2.py3-none-any.whl\n",
      "Installing collected packages: numpy, pytz, six, python-dateutil, pandas\n",
      "Successfully installed numpy-1.19.5 pandas-1.1.5 python-dateutil-2.8.2 pytz-2021.3 six-1.16.0\n"
     ]
    }
   ],
   "source": [
    "!pip3 install pandas"
   ]
  },
  {
   "cell_type": "code",
   "execution_count": 8,
   "metadata": {},
   "outputs": [
    {
     "name": "stdout",
     "output_type": "stream",
     "text": [
      "Collecting plotly\n",
      "  Downloading plotly-5.3.1-py2.py3-none-any.whl (23.9 MB)\n",
      "\u001b[K     |████████████████████████████████| 23.9 MB 2.6 MB/s eta 0:00:01\n",
      "\u001b[?25hCollecting tenacity>=6.2.0\n",
      "  Downloading tenacity-8.0.1-py3-none-any.whl (24 kB)\n",
      "Requirement already satisfied: six in /Users/ajinkyapawale/opt/anaconda3/lib/python3.8/site-packages (from plotly) (1.15.0)\n",
      "Installing collected packages: tenacity, plotly\n",
      "Successfully installed plotly-5.3.1 tenacity-8.0.1\n"
     ]
    }
   ],
   "source": [
    "!pip install plotly"
   ]
  },
  {
   "cell_type": "markdown",
   "metadata": {},
   "source": [
    "### Library Imports"
   ]
  },
  {
   "cell_type": "code",
   "execution_count": 9,
   "metadata": {},
   "outputs": [],
   "source": [
    "import pandas as pd\n",
    "import plotly.express as px"
   ]
  },
  {
   "cell_type": "code",
   "execution_count": 114,
   "metadata": {},
   "outputs": [],
   "source": [
    "from pyspark import SparkContext"
   ]
  },
  {
   "cell_type": "code",
   "execution_count": 115,
   "metadata": {},
   "outputs": [],
   "source": [
    "import plotly as plt"
   ]
  },
  {
   "cell_type": "code",
   "execution_count": 118,
   "metadata": {},
   "outputs": [],
   "source": [
    "sc = SparkContext()"
   ]
  },
  {
   "cell_type": "code",
   "execution_count": 12,
   "metadata": {},
   "outputs": [],
   "source": [
    "logFile = 'file:///opt/spark/spark-3.1.2-bin-hadoop3.2/README.md'"
   ]
  },
  {
   "cell_type": "code",
   "execution_count": 13,
   "metadata": {},
   "outputs": [],
   "source": [
    "logData =sc.textFile(logFile).cache()"
   ]
  },
  {
   "cell_type": "code",
   "execution_count": 14,
   "metadata": {},
   "outputs": [
    {
     "data": {
      "text/plain": [
       "108"
      ]
     },
     "execution_count": 14,
     "metadata": {},
     "output_type": "execute_result"
    }
   ],
   "source": [
    "logData.count()"
   ]
  },
  {
   "cell_type": "code",
   "execution_count": 16,
   "metadata": {},
   "outputs": [
    {
     "data": {
      "text/plain": [
       "'# Apache Spark'"
      ]
     },
     "execution_count": 16,
     "metadata": {},
     "output_type": "execute_result"
    }
   ],
   "source": [
    "logData.first()"
   ]
  },
  {
   "cell_type": "code",
   "execution_count": 17,
   "metadata": {},
   "outputs": [
    {
     "name": "stdout",
     "output_type": "stream",
     "text": [
      "Lines with a: 64\n",
      "Lines with b: 32\n"
     ]
    }
   ],
   "source": [
    "numAs = logData.filter(lambda s: 'a' in s).count()\n",
    "numBs = logData.filter(lambda s: 'b' in s).count()\n",
    "print('Lines with a: %i' % numAs)\n",
    "print('Lines with b: %i' %numBs)"
   ]
  },
  {
   "cell_type": "code",
   "execution_count": 18,
   "metadata": {},
   "outputs": [],
   "source": [
    "wordCounts = logData.flatMap(lambda line: line.split()).map(lambda word: (word,1)).reduceByKey(lambda a,b: a+b)"
   ]
  },
  {
   "cell_type": "code",
   "execution_count": 19,
   "metadata": {},
   "outputs": [
    {
     "data": {
      "text/plain": [
       "[('#', 1),\n",
       " ('Apache', 1),\n",
       " ('Spark', 14),\n",
       " ('is', 7),\n",
       " ('a', 9),\n",
       " ('unified', 1),\n",
       " ('analytics', 1),\n",
       " ('engine', 2),\n",
       " ('for', 12),\n",
       " ('large-scale', 1),\n",
       " ('data', 2),\n",
       " ('processing.', 2),\n",
       " ('It', 2),\n",
       " ('provides', 1),\n",
       " ('high-level', 1),\n",
       " ('APIs', 1),\n",
       " ('in', 5),\n",
       " ('Scala,', 1),\n",
       " ('Java,', 1),\n",
       " ('Python,', 2),\n",
       " ('and', 9),\n",
       " ('R,', 1),\n",
       " ('an', 4),\n",
       " ('optimized', 1),\n",
       " ('that', 2),\n",
       " ('supports', 2),\n",
       " ('general', 2),\n",
       " ('computation', 1),\n",
       " ('graphs', 1),\n",
       " ('analysis.', 1),\n",
       " ('also', 5),\n",
       " ('rich', 1),\n",
       " ('set', 2),\n",
       " ('of', 5),\n",
       " ('higher-level', 1),\n",
       " ('tools', 1),\n",
       " ('including', 4),\n",
       " ('SQL', 2),\n",
       " ('DataFrames,', 1),\n",
       " ('MLlib', 1),\n",
       " ('machine', 1),\n",
       " ('learning,', 1),\n",
       " ('GraphX', 1),\n",
       " ('graph', 1),\n",
       " ('processing,', 1),\n",
       " ('Structured', 1),\n",
       " ('Streaming', 1),\n",
       " ('stream', 1),\n",
       " ('<https://spark.apache.org/>', 1),\n",
       " ('[![Jenkins', 1),\n",
       " ('Build](https://amplab.cs.berkeley.edu/jenkins/job/spark-master-test-sbt-hadoop-2.7-hive-2.3/badge/icon)](https://amplab.cs.berkeley.edu/jenkins/job/spark-master-test-sbt-hadoop-2.7-hive-2.3)',\n",
       "  1),\n",
       " ('[![AppVeyor', 1),\n",
       " ('Build](https://img.shields.io/appveyor/ci/ApacheSoftwareFoundation/spark/master.svg?style=plastic&logo=appveyor)](https://ci.appveyor.com/project/ApacheSoftwareFoundation/spark)',\n",
       "  1),\n",
       " ('[![PySpark', 1),\n",
       " ('Coverage](https://img.shields.io/badge/dynamic/xml.svg?label=pyspark%20coverage&url=https%3A%2F%2Fspark-test.github.io%2Fpyspark-coverage-site&query=%2Fhtml%2Fbody%2Fdiv%5B1%5D%2Fdiv%2Fh1%2Fspan&colorB=brightgreen&style=plastic)](https://spark-test.github.io/pyspark-coverage-site)',\n",
       "  1),\n",
       " ('##', 9),\n",
       " ('Online', 1),\n",
       " ('Documentation', 1),\n",
       " ('You', 3),\n",
       " ('can', 6),\n",
       " ('find', 1),\n",
       " ('the', 23),\n",
       " ('latest', 1),\n",
       " ('documentation,', 1),\n",
       " ('programming', 1),\n",
       " ('guide,', 1),\n",
       " ('on', 7),\n",
       " ('[project', 1),\n",
       " ('web', 1),\n",
       " ('page](https://spark.apache.org/documentation.html).', 1),\n",
       " ('This', 2),\n",
       " ('README', 1),\n",
       " ('file', 1),\n",
       " ('only', 1),\n",
       " ('contains', 1),\n",
       " ('basic', 1),\n",
       " ('setup', 1),\n",
       " ('instructions.', 1),\n",
       " ('Building', 1),\n",
       " ('built', 1),\n",
       " ('using', 3),\n",
       " ('[Apache', 1),\n",
       " ('Maven](https://maven.apache.org/).', 1),\n",
       " ('To', 2),\n",
       " ('build', 3),\n",
       " ('its', 1),\n",
       " ('example', 3),\n",
       " ('programs,', 1),\n",
       " ('run:', 1),\n",
       " ('./build/mvn', 1),\n",
       " ('-DskipTests', 1),\n",
       " ('clean', 1),\n",
       " ('package', 1),\n",
       " ('(You', 1),\n",
       " ('do', 2),\n",
       " ('not', 1),\n",
       " ('need', 1),\n",
       " ('to', 16),\n",
       " ('this', 1),\n",
       " ('if', 4),\n",
       " ('you', 4),\n",
       " ('downloaded', 1),\n",
       " ('pre-built', 1),\n",
       " ('package.)', 1),\n",
       " ('More', 1),\n",
       " ('detailed', 2),\n",
       " ('documentation', 3),\n",
       " ('available', 1),\n",
       " ('from', 1),\n",
       " ('project', 1),\n",
       " ('site,', 1),\n",
       " ('at', 2),\n",
       " ('[\"Building', 1),\n",
       " ('Spark\"](https://spark.apache.org/docs/latest/building-spark.html).', 1),\n",
       " ('For', 3),\n",
       " ('development', 1),\n",
       " ('tips,', 1),\n",
       " ('info', 1),\n",
       " ('developing', 1),\n",
       " ('IDE,', 1),\n",
       " ('see', 3),\n",
       " ('[\"Useful', 1),\n",
       " ('Developer', 1),\n",
       " ('Tools\"](https://spark.apache.org/developer-tools.html).', 1),\n",
       " ('Interactive', 2),\n",
       " ('Scala', 2),\n",
       " ('Shell', 2),\n",
       " ('The', 1),\n",
       " ('easiest', 1),\n",
       " ('way', 1),\n",
       " ('start', 1),\n",
       " ('through', 1),\n",
       " ('shell:', 2),\n",
       " ('./bin/spark-shell', 1),\n",
       " ('Try', 1),\n",
       " ('following', 2),\n",
       " ('command,', 2),\n",
       " ('which', 2),\n",
       " ('should', 2),\n",
       " ('return', 2),\n",
       " ('1,000,000,000:', 2),\n",
       " ('scala>', 1),\n",
       " ('spark.range(1000', 2),\n",
       " ('*', 4),\n",
       " ('1000', 2),\n",
       " ('1000).count()', 2),\n",
       " ('Python', 2),\n",
       " ('Alternatively,', 1),\n",
       " ('prefer', 1),\n",
       " ('use', 3),\n",
       " ('./bin/pyspark', 1),\n",
       " ('And', 1),\n",
       " ('run', 7),\n",
       " ('>>>', 1),\n",
       " ('Example', 1),\n",
       " ('Programs', 1),\n",
       " ('comes', 1),\n",
       " ('with', 3),\n",
       " ('several', 1),\n",
       " ('sample', 1),\n",
       " ('programs', 2),\n",
       " ('`examples`', 2),\n",
       " ('directory.', 1),\n",
       " ('one', 2),\n",
       " ('them,', 1),\n",
       " ('`./bin/run-example', 1),\n",
       " ('<class>', 1),\n",
       " ('[params]`.', 1),\n",
       " ('example:', 1),\n",
       " ('./bin/run-example', 2),\n",
       " ('SparkPi', 2),\n",
       " ('will', 1),\n",
       " ('Pi', 1),\n",
       " ('locally.', 1),\n",
       " ('MASTER', 1),\n",
       " ('environment', 1),\n",
       " ('variable', 1),\n",
       " ('when', 1),\n",
       " ('running', 1),\n",
       " ('examples', 2),\n",
       " ('submit', 1),\n",
       " ('cluster.', 1),\n",
       " ('be', 2),\n",
       " ('mesos://', 1),\n",
       " ('or', 3),\n",
       " ('spark://', 1),\n",
       " ('URL,', 1),\n",
       " ('\"yarn\"', 1),\n",
       " ('YARN,', 1),\n",
       " ('\"local\"', 1),\n",
       " ('locally', 2),\n",
       " ('thread,', 1),\n",
       " ('\"local[N]\"', 1),\n",
       " ('N', 1),\n",
       " ('threads.', 1),\n",
       " ('abbreviated', 1),\n",
       " ('class', 2),\n",
       " ('name', 1),\n",
       " ('package.', 1),\n",
       " ('instance:', 1),\n",
       " ('MASTER=spark://host:7077', 1),\n",
       " ('Many', 1),\n",
       " ('print', 1),\n",
       " ('usage', 1),\n",
       " ('help', 1),\n",
       " ('no', 1),\n",
       " ('params', 1),\n",
       " ('are', 1),\n",
       " ('given.', 1),\n",
       " ('Running', 1),\n",
       " ('Tests', 1),\n",
       " ('Testing', 1),\n",
       " ('first', 1),\n",
       " ('requires', 1),\n",
       " ('[building', 1),\n",
       " ('Spark](#building-spark).', 1),\n",
       " ('Once', 1),\n",
       " ('built,', 1),\n",
       " ('tests', 2),\n",
       " ('using:', 1),\n",
       " ('./dev/run-tests', 1),\n",
       " ('Please', 4),\n",
       " ('guidance', 2),\n",
       " ('how', 3),\n",
       " ('[run', 1),\n",
       " ('module,', 1),\n",
       " ('individual', 1),\n",
       " ('tests](https://spark.apache.org/developer-tools.html#individual-tests).',\n",
       "  1),\n",
       " ('There', 1),\n",
       " ('Kubernetes', 1),\n",
       " ('integration', 1),\n",
       " ('test,', 1),\n",
       " ('resource-managers/kubernetes/integration-tests/README.md', 1),\n",
       " ('A', 1),\n",
       " ('Note', 1),\n",
       " ('About', 1),\n",
       " ('Hadoop', 3),\n",
       " ('Versions', 1),\n",
       " ('uses', 1),\n",
       " ('core', 1),\n",
       " ('library', 1),\n",
       " ('talk', 1),\n",
       " ('HDFS', 1),\n",
       " ('other', 1),\n",
       " ('Hadoop-supported', 1),\n",
       " ('storage', 1),\n",
       " ('systems.', 1),\n",
       " ('Because', 1),\n",
       " ('protocols', 1),\n",
       " ('have', 1),\n",
       " ('changed', 1),\n",
       " ('different', 1),\n",
       " ('versions', 1),\n",
       " ('Hadoop,', 2),\n",
       " ('must', 1),\n",
       " ('against', 1),\n",
       " ('same', 1),\n",
       " ('version', 1),\n",
       " ('your', 1),\n",
       " ('cluster', 1),\n",
       " ('runs.', 1),\n",
       " ('refer', 2),\n",
       " ('[\"Specifying', 1),\n",
       " ('Version', 1),\n",
       " ('Enabling', 1),\n",
       " ('YARN\"](https://spark.apache.org/docs/latest/building-spark.html#specifying-the-hadoop-version-and-enabling-yarn)',\n",
       "  1),\n",
       " ('building', 2),\n",
       " ('particular', 2),\n",
       " ('distribution', 1),\n",
       " ('Hive', 2),\n",
       " ('Thriftserver', 1),\n",
       " ('distributions.', 1),\n",
       " ('Configuration', 1),\n",
       " ('[Configuration', 1),\n",
       " ('Guide](https://spark.apache.org/docs/latest/configuration.html)', 1),\n",
       " ('online', 1),\n",
       " ('overview', 1),\n",
       " ('configure', 1),\n",
       " ('Spark.', 1),\n",
       " ('Contributing', 1),\n",
       " ('review', 1),\n",
       " ('[Contribution', 1),\n",
       " ('guide](https://spark.apache.org/contributing.html)', 1),\n",
       " ('information', 1),\n",
       " ('get', 1),\n",
       " ('started', 1),\n",
       " ('contributing', 1),\n",
       " ('project.', 1)]"
      ]
     },
     "execution_count": 19,
     "metadata": {},
     "output_type": "execute_result"
    }
   ],
   "source": [
    "wordCounts.collect()"
   ]
  },
  {
   "cell_type": "markdown",
   "metadata": {},
   "source": [
    "### Tesitng on one of the books by Sherlock Holmes"
   ]
  },
  {
   "cell_type": "code",
   "execution_count": 26,
   "metadata": {},
   "outputs": [],
   "source": [
    "fdata = sc.textFile('Sherlock1661-0.txt').cache()"
   ]
  },
  {
   "cell_type": "code",
   "execution_count": 27,
   "metadata": {},
   "outputs": [
    {
     "data": {
      "text/plain": [
       "12304"
      ]
     },
     "execution_count": 27,
     "metadata": {},
     "output_type": "execute_result"
    }
   ],
   "source": [
    "fdata.count()"
   ]
  },
  {
   "cell_type": "markdown",
   "metadata": {},
   "source": [
    "### First Line in the book"
   ]
  },
  {
   "cell_type": "code",
   "execution_count": 28,
   "metadata": {},
   "outputs": [
    {
     "data": {
      "text/plain": [
       "'The Project Gutenberg eBook of The Adventures of Sherlock Holmes, by Arthur Conan Doyle'"
      ]
     },
     "execution_count": 28,
     "metadata": {},
     "output_type": "execute_result"
    }
   ],
   "source": [
    "fdata.first()"
   ]
  },
  {
   "cell_type": "markdown",
   "metadata": {},
   "source": [
    "### Doing the wordcount by appling map and reduce techniques"
   ]
  },
  {
   "cell_type": "code",
   "execution_count": 29,
   "metadata": {},
   "outputs": [],
   "source": [
    "wordCounts_d = fdata.flatMap(lambda line: line.split()).map(lambda word: (word,1)).reduceByKey(lambda a,b: a+b)"
   ]
  },
  {
   "cell_type": "code",
   "execution_count": 30,
   "metadata": {},
   "outputs": [
    {
     "data": {
      "text/plain": [
       "[('The', 271),\n",
       " ('Project', 80),\n",
       " ('Gutenberg', 23),\n",
       " ('eBook', 6),\n",
       " ('of', 2724),\n",
       " ('Adventures', 3),\n",
       " ('Sherlock', 96),\n",
       " ('Holmes,', 126),\n",
       " ('by', 338),\n",
       " ('Arthur', 13),\n",
       " ('Conan', 3),\n",
       " ('Doyle', 3),\n",
       " ('This', 52),\n",
       " ('is', 1073),\n",
       " ('for', 698),\n",
       " ('the', 5412),\n",
       " ('use', 37),\n",
       " ('anyone', 27),\n",
       " ('anywhere', 3),\n",
       " ('in', 1706),\n",
       " ('United', 16),\n",
       " ('States', 8),\n",
       " ('and', 2794),\n",
       " ('most', 88),\n",
       " ('other', 143),\n",
       " ('parts', 4),\n",
       " ('world', 7),\n",
       " ('at', 737),\n",
       " ('no', 286),\n",
       " ('cost', 5),\n",
       " ('with', 843),\n",
       " ('almost', 20),\n",
       " ('restrictions', 2),\n",
       " ('whatsoever.', 2),\n",
       " ('You', 136),\n",
       " ('may', 201),\n",
       " ('copy', 10),\n",
       " ('it,', 93),\n",
       " ('give', 55),\n",
       " ('it', 977),\n",
       " ('away', 84),\n",
       " ('or', 259),\n",
       " ('re-use', 2),\n",
       " ('under', 44),\n",
       " ('terms', 22),\n",
       " ('License', 8),\n",
       " ('included', 3),\n",
       " ('this', 409),\n",
       " ('online', 4),\n",
       " ('www.gutenberg.org.', 2),\n",
       " ('If', 65),\n",
       " ('you', 1034),\n",
       " ('are', 319),\n",
       " ('not', 605),\n",
       " ('located', 7),\n",
       " ('States,', 5),\n",
       " ('will', 251),\n",
       " ('have', 895),\n",
       " ('to', 2702),\n",
       " ('check', 6),\n",
       " ('laws', 9),\n",
       " ('country', 22),\n",
       " ('where', 102),\n",
       " ('before', 140),\n",
       " ('using', 10),\n",
       " ('eBook.', 2),\n",
       " ('Title:', 1),\n",
       " ('Holmes', 198),\n",
       " ('Author:', 1),\n",
       " ('Release', 1),\n",
       " ('Date:', 1),\n",
       " ('November', 1),\n",
       " ('29,', 1),\n",
       " ('2002', 1),\n",
       " ('[eBook', 1),\n",
       " ('#1661]', 1),\n",
       " ('[Most', 1),\n",
       " ('recently', 2),\n",
       " ('updated:', 1),\n",
       " ('May', 4),\n",
       " ('20,', 1),\n",
       " ('2019]', 1),\n",
       " ('Language:', 1),\n",
       " ('English', 9),\n",
       " ('Character', 1),\n",
       " ('set', 48),\n",
       " ('encoding:', 1),\n",
       " ('UTF-8', 1),\n",
       " ('Produced', 1),\n",
       " ('by:', 1),\n",
       " ('an', 329),\n",
       " ('anonymous', 1),\n",
       " ('volunteer', 2),\n",
       " ('Jose', 1),\n",
       " ('Menendez', 1),\n",
       " ('***', 4),\n",
       " ('START', 1),\n",
       " ('OF', 19),\n",
       " ('THE', 26),\n",
       " ('PROJECT', 4),\n",
       " ('GUTENBERG', 3),\n",
       " ('EBOOK', 2),\n",
       " ('ADVENTURES', 2),\n",
       " ('SHERLOCK', 4),\n",
       " ('HOLMES', 2),\n",
       " ('cover', 6),\n",
       " ('Contents', 1),\n",
       " ('I.', 25),\n",
       " ('A', 73),\n",
       " ('Scandal', 2),\n",
       " ('Bohemia', 4),\n",
       " ('II.', 3),\n",
       " ('Red-Headed', 1),\n",
       " ('League', 7),\n",
       " ('III.', 3),\n",
       " ('Case', 1),\n",
       " ('Identity', 1),\n",
       " ('IV.', 2),\n",
       " ('Boscombe', 14),\n",
       " ('Valley', 4),\n",
       " ('Mystery', 1),\n",
       " ('V.', 2),\n",
       " ('Five', 2),\n",
       " ('Orange', 1),\n",
       " ('Pips', 1),\n",
       " ('VI.', 2),\n",
       " ('Man', 1),\n",
       " ('Twisted', 1),\n",
       " ('Lip', 1),\n",
       " ('VII.', 2),\n",
       " ('Adventure', 6),\n",
       " ('Blue', 1),\n",
       " ('Carbuncle', 1),\n",
       " ('VIII.', 2),\n",
       " ('Speckled', 1),\n",
       " ('Band', 1),\n",
       " ('IX.', 2),\n",
       " ('Engineer’s', 1),\n",
       " ('Thumb', 1),\n",
       " ('X.', 2),\n",
       " ('Noble', 1),\n",
       " ('Bachelor', 1),\n",
       " ('XI.', 2),\n",
       " ('Beryl', 2),\n",
       " ('Coronet', 1),\n",
       " ('XII.', 2),\n",
       " ('Copper', 8),\n",
       " ('Beeches', 3),\n",
       " ('SCANDAL', 1),\n",
       " ('IN', 2),\n",
       " ('BOHEMIA', 1),\n",
       " ('To', 17),\n",
       " ('she', 305),\n",
       " ('always', 55),\n",
       " ('_the_', 3),\n",
       " ('woman.', 8),\n",
       " ('I', 2533),\n",
       " ('seldom', 5),\n",
       " ('heard', 103),\n",
       " ('him', 253),\n",
       " ('mention', 2),\n",
       " ('her', 366),\n",
       " ('any', 157),\n",
       " ('name.', 3),\n",
       " ('In', 53),\n",
       " ('his', 1096),\n",
       " ('eyes', 58),\n",
       " ('eclipses', 1),\n",
       " ('predominates', 1),\n",
       " ('whole', 43),\n",
       " ('sex.', 1),\n",
       " ('It', 290),\n",
       " ('was', 1361),\n",
       " ('that', 1557),\n",
       " ('he', 1014),\n",
       " ('felt', 30),\n",
       " ('emotion', 3),\n",
       " ('akin', 3),\n",
       " ('love', 16),\n",
       " ('Irene', 13),\n",
       " ('Adler.', 2),\n",
       " ('All', 18),\n",
       " ('emotions,', 1),\n",
       " ('one', 283),\n",
       " ('particularly,', 1),\n",
       " ('were', 336),\n",
       " ('abhorrent', 1),\n",
       " ('cold,', 4),\n",
       " ('precise', 3),\n",
       " ('but', 439),\n",
       " ('admirably', 3),\n",
       " ('balanced', 1),\n",
       " ('mind.', 5),\n",
       " ('He', 264),\n",
       " ('was,', 13),\n",
       " ('take', 74),\n",
       " ('perfect', 6),\n",
       " ('reasoning', 7),\n",
       " ('observing', 4),\n",
       " ('machine', 11),\n",
       " ('has', 277),\n",
       " ('seen,', 3),\n",
       " ('as', 776),\n",
       " ('a', 2575),\n",
       " ('lover', 5),\n",
       " ('would', 313),\n",
       " ('placed', 18),\n",
       " ('himself', 61),\n",
       " ('false', 4),\n",
       " ('position.', 4),\n",
       " ('never', 92),\n",
       " ('spoke', 19),\n",
       " ('softer', 1),\n",
       " ('passions,', 1),\n",
       " ('save', 35),\n",
       " ('gibe', 1),\n",
       " ('sneer.', 2),\n",
       " ('They', 36),\n",
       " ('admirable', 3),\n",
       " ('things', 24),\n",
       " ('observer—excellent', 1),\n",
       " ('drawing', 5),\n",
       " ('veil', 4),\n",
       " ('from', 485),\n",
       " ('men’s', 2),\n",
       " ('motives', 3),\n",
       " ('actions.', 2),\n",
       " ('But', 100),\n",
       " ('trained', 4),\n",
       " ('reasoner', 3),\n",
       " ('admit', 2),\n",
       " ('such', 110),\n",
       " ('intrusions', 1),\n",
       " ('into', 272),\n",
       " ('own', 94),\n",
       " ('delicate', 7),\n",
       " ('finely', 1),\n",
       " ('adjusted', 2),\n",
       " ('temperament', 1),\n",
       " ('introduce', 4),\n",
       " ('distracting', 1),\n",
       " ('factor', 3),\n",
       " ('which', 753),\n",
       " ('might', 118),\n",
       " ('throw', 10),\n",
       " ('doubt', 49),\n",
       " ('upon', 460),\n",
       " ('all', 320),\n",
       " ('mental', 1),\n",
       " ('results.', 3),\n",
       " ('Grit', 1),\n",
       " ('sensitive', 1),\n",
       " ('instrument,', 1),\n",
       " ('crack', 2),\n",
       " ('high-power', 1),\n",
       " ('lenses,', 1),\n",
       " ('be', 610),\n",
       " ('more', 151),\n",
       " ('disturbing', 1),\n",
       " ('than', 160),\n",
       " ('strong', 32),\n",
       " ('nature', 13),\n",
       " ('his.', 1),\n",
       " ('And', 83),\n",
       " ('yet', 56),\n",
       " ('there', 275),\n",
       " ('woman', 35),\n",
       " ('him,', 64),\n",
       " ('late', 16),\n",
       " ('Adler,', 5),\n",
       " ('dubious', 1),\n",
       " ('questionable', 2),\n",
       " ('memory.', 4),\n",
       " ('had', 807),\n",
       " ('seen', 62),\n",
       " ('little', 257),\n",
       " ('lately.', 4),\n",
       " ('My', 54),\n",
       " ('marriage', 16),\n",
       " ('drifted', 2),\n",
       " ('us', 126),\n",
       " ('each', 32),\n",
       " ('other.', 9),\n",
       " ('complete', 10),\n",
       " ('happiness,', 2),\n",
       " ('home-centred', 1),\n",
       " ('interests', 3),\n",
       " ('rise', 5),\n",
       " ('up', 249),\n",
       " ('around', 2),\n",
       " ('man', 193),\n",
       " ('who', 253),\n",
       " ('first', 67),\n",
       " ('finds', 4),\n",
       " ('master', 7),\n",
       " ('establishment,', 1),\n",
       " ('sufficient', 5),\n",
       " ('absorb', 1),\n",
       " ('my', 901),\n",
       " ('attention,', 4),\n",
       " ('while', 64),\n",
       " ('loathed', 1),\n",
       " ('every', 75),\n",
       " ('form', 8),\n",
       " ('society', 6),\n",
       " ('Bohemian', 4),\n",
       " ('soul,', 1),\n",
       " ('remained', 16),\n",
       " ('our', 194),\n",
       " ('lodgings', 7),\n",
       " ('Baker', 33),\n",
       " ('Street,', 19),\n",
       " ('buried', 6),\n",
       " ('among', 33),\n",
       " ('old', 62),\n",
       " ('books,', 3),\n",
       " ('alternating', 1),\n",
       " ('week', 13),\n",
       " ('between', 55),\n",
       " ('cocaine', 3),\n",
       " ('ambition,', 1),\n",
       " ('drowsiness', 1),\n",
       " ('drug,', 4),\n",
       " ('fierce', 6),\n",
       " ('energy', 3),\n",
       " ('keen', 9),\n",
       " ('nature.', 4),\n",
       " ('still,', 3),\n",
       " ('ever,', 5),\n",
       " ('deeply', 10),\n",
       " ('attracted', 5),\n",
       " ('study', 5),\n",
       " ('crime,', 4),\n",
       " ('occupied', 1),\n",
       " ('immense', 10),\n",
       " ('faculties', 2),\n",
       " ('extraordinary', 18),\n",
       " ('powers', 5),\n",
       " ('observation', 4),\n",
       " ('following', 16),\n",
       " ('out', 272),\n",
       " ('those', 60),\n",
       " ('clues,', 1),\n",
       " ('clearing', 8),\n",
       " ('mysteries', 2),\n",
       " ('been', 385),\n",
       " ('abandoned', 3),\n",
       " ('hopeless', 2),\n",
       " ('official', 14),\n",
       " ('police.', 5),\n",
       " ('From', 13),\n",
       " ('time', 102),\n",
       " ('some', 227),\n",
       " ('vague', 8),\n",
       " ('account', 18),\n",
       " ('doings:', 1),\n",
       " ('summons', 2),\n",
       " ('Odessa', 1),\n",
       " ('case', 72),\n",
       " ('Trepoff', 1),\n",
       " ('murder,', 2),\n",
       " ('singular', 32),\n",
       " ('tragedy', 3),\n",
       " ('Atkinson', 1),\n",
       " ('brothers', 1),\n",
       " ('Trincomalee,', 1),\n",
       " ('finally', 11),\n",
       " ('mission', 5),\n",
       " ('accomplished', 1),\n",
       " ('so', 316),\n",
       " ('delicately', 1),\n",
       " ('successfully', 1),\n",
       " ('reigning', 3),\n",
       " ('family', 20),\n",
       " ('Holland.', 1),\n",
       " ('Beyond', 3),\n",
       " ('these', 68),\n",
       " ('signs', 13),\n",
       " ('activity,', 1),\n",
       " ('however,', 89),\n",
       " ('merely', 10),\n",
       " ('shared', 2),\n",
       " ('readers', 1),\n",
       " ('daily', 2),\n",
       " ('press,', 4),\n",
       " ('knew', 53),\n",
       " ('former', 2),\n",
       " ('friend', 49),\n",
       " ('companion.', 10),\n",
       " ('One', 25),\n",
       " ('night—it', 2),\n",
       " ('on', 334),\n",
       " ('twentieth', 2),\n",
       " ('March,', 2),\n",
       " ('1888—I', 1),\n",
       " ('returning', 10),\n",
       " ('journey', 5),\n",
       " ('patient', 1),\n",
       " ('(for', 1),\n",
       " ('now', 95),\n",
       " ('returned', 29),\n",
       " ('civil', 2),\n",
       " ('practice),', 1),\n",
       " ('when', 257),\n",
       " ('way', 79),\n",
       " ('led', 25),\n",
       " ('me', 414),\n",
       " ('through', 85),\n",
       " ('Street.', 15),\n",
       " ('As', 72),\n",
       " ('passed', 38),\n",
       " ('well-remembered', 1),\n",
       " ('door,', 30),\n",
       " ('must', 168),\n",
       " ('associated', 10),\n",
       " ('mind', 46),\n",
       " ('wooing,', 1),\n",
       " ('dark', 27),\n",
       " ('incidents', 5),\n",
       " ('Study', 3),\n",
       " ('Scarlet,', 3),\n",
       " ('seized', 10),\n",
       " ('desire', 6),\n",
       " ('see', 184),\n",
       " ('again,', 15),\n",
       " ('know', 137),\n",
       " ('how', 96),\n",
       " ('employing', 1),\n",
       " ('powers.', 1),\n",
       " ('His', 50),\n",
       " ('rooms', 19),\n",
       " ('brilliantly', 2),\n",
       " ('lit,', 2),\n",
       " ('and,', 51),\n",
       " ('even', 64),\n",
       " ('looked', 51),\n",
       " ('up,', 34),\n",
       " ('saw', 84),\n",
       " ('tall,', 6),\n",
       " ('spare', 6),\n",
       " ('figure', 14),\n",
       " ('pass', 12),\n",
       " ('twice', 8),\n",
       " ('silhouette', 1),\n",
       " ('against', 52),\n",
       " ('blind.', 2),\n",
       " ('pacing', 3),\n",
       " ('room', 57),\n",
       " ('swiftly,', 3),\n",
       " ('eagerly,', 1),\n",
       " ('head', 43),\n",
       " ('sunk', 8),\n",
       " ('chest', 5),\n",
       " ('hands', 42),\n",
       " ('clasped', 1),\n",
       " ('behind', 42),\n",
       " ('him.', 82),\n",
       " ('me,', 83),\n",
       " ('mood', 2),\n",
       " ('habit,', 2),\n",
       " ('attitude', 1),\n",
       " ('manner', 18),\n",
       " ('told', 49),\n",
       " ('their', 95),\n",
       " ('story.', 7),\n",
       " ('work', 57),\n",
       " ('again.', 15),\n",
       " ('risen', 3),\n",
       " ('drug-created', 1),\n",
       " ('dreams', 2),\n",
       " ('hot', 8),\n",
       " ('scent', 2),\n",
       " ('new', 29),\n",
       " ('problem.', 5),\n",
       " ('rang', 4),\n",
       " ('bell', 6),\n",
       " ('shown', 19),\n",
       " ('chamber', 10),\n",
       " ('formerly', 2),\n",
       " ('part', 32),\n",
       " ('own.', 3),\n",
       " ('effusive.', 1),\n",
       " ('was;', 1),\n",
       " ('glad,', 2),\n",
       " ('think,', 31),\n",
       " ('me.', 74),\n",
       " ('With', 24),\n",
       " ('hardly', 50),\n",
       " ('word', 30),\n",
       " ('spoken,', 2),\n",
       " ('kindly', 10),\n",
       " ('eye,', 1),\n",
       " ('waved', 4),\n",
       " ('armchair,', 3),\n",
       " ('threw', 29),\n",
       " ('across', 34),\n",
       " ('cigars,', 2),\n",
       " ('indicated', 3),\n",
       " ('spirit', 1),\n",
       " ('gasogene', 1),\n",
       " ('corner.', 2),\n",
       " ('Then', 68),\n",
       " ('stood', 34),\n",
       " ('fire', 16),\n",
       " ('over', 162),\n",
       " ('introspective', 2),\n",
       " ('fashion.', 3),\n",
       " ('“Wedlock', 1),\n",
       " ('suits', 2),\n",
       " ('you,”', 17),\n",
       " ('remarked.', 15),\n",
       " ('“I', 349),\n",
       " ('Watson,', 40),\n",
       " ('put', 67),\n",
       " ('seven', 24),\n",
       " ('half', 37),\n",
       " ('pounds', 3),\n",
       " ('since', 31),\n",
       " ('you.”', 32),\n",
       " ('“Seven!”', 1),\n",
       " ('answered.', 19),\n",
       " ('“Indeed,', 5),\n",
       " ('should', 206),\n",
       " ('thought', 64),\n",
       " ('more.', 13),\n",
       " ('Just', 9),\n",
       " ('trifle', 2),\n",
       " ('more,', 7),\n",
       " ('fancy,', 4),\n",
       " ('Watson.', 10),\n",
       " ('practice', 8),\n",
       " ('observe.', 3),\n",
       " ('did', 126),\n",
       " ('tell', 84),\n",
       " ('intended', 1),\n",
       " ('go', 80),\n",
       " ('harness.”', 1),\n",
       " ('“Then,', 11),\n",
       " ('do', 217),\n",
       " ('know?”', 1),\n",
       " ('deduce', 12),\n",
       " ('it.', 110),\n",
       " ('How', 19),\n",
       " ('getting', 7),\n",
       " ('yourself', 33),\n",
       " ('very', 370),\n",
       " ('wet', 4),\n",
       " ('lately,', 2),\n",
       " ('clumsy', 1),\n",
       " ('careless', 1),\n",
       " ('servant', 5),\n",
       " ('girl?”', 1),\n",
       " ('“My', 38),\n",
       " ('dear', 47),\n",
       " ('Holmes,”', 11),\n",
       " ('said', 447),\n",
       " ('I,', 33),\n",
       " ('“this', 5),\n",
       " ('too', 51),\n",
       " ('much.', 5),\n",
       " ('certainly', 27),\n",
       " ('burned,', 1),\n",
       " ('lived', 8),\n",
       " ('few', 77),\n",
       " ('centuries', 1),\n",
       " ('ago.', 6),\n",
       " ('true', 19),\n",
       " ('walk', 14),\n",
       " ('Thursday', 2),\n",
       " ('came', 142),\n",
       " ('home', 34),\n",
       " ('dreadful', 16),\n",
       " ('mess,', 1),\n",
       " ('changed', 5),\n",
       " ('clothes', 12),\n",
       " ('can’t', 12),\n",
       " ('imagine', 15),\n",
       " ('Mary', 15),\n",
       " ('Jane,', 1),\n",
       " ('incorrigible,', 1),\n",
       " ('wife', 35),\n",
       " ('given', 30),\n",
       " ('notice,', 1),\n",
       " ('there,', 25),\n",
       " ('fail', 3),\n",
       " ('out.”', 5),\n",
       " ('chuckled', 6),\n",
       " ('rubbed', 3),\n",
       " ('long,', 13),\n",
       " ('nervous', 8),\n",
       " ('together.', 8),\n",
       " ('“It', 124),\n",
       " ('simplicity', 1),\n",
       " ('itself,”', 1),\n",
       " ('he;', 8),\n",
       " ('“my', 4),\n",
       " ('inside', 11),\n",
       " ('your', 359),\n",
       " ('left', 76),\n",
       " ('shoe,', 1),\n",
       " ('just', 110),\n",
       " ('firelight', 1),\n",
       " ('strikes', 3),\n",
       " ('leather', 4),\n",
       " ('scored', 2),\n",
       " ('six', 21),\n",
       " ('parallel', 3),\n",
       " ('cuts.', 1),\n",
       " ('Obviously', 2),\n",
       " ('they', 140),\n",
       " ('caused', 15),\n",
       " ('someone', 14),\n",
       " ('carelessly', 1),\n",
       " ('scraped', 1),\n",
       " ('round', 65),\n",
       " ('edges', 3),\n",
       " ('sole', 2),\n",
       " ('order', 18),\n",
       " ('remove', 6),\n",
       " ('crusted', 1),\n",
       " ('mud', 3),\n",
       " ('Hence,', 1),\n",
       " ('see,', 19),\n",
       " ('double', 12),\n",
       " ('deduction', 4),\n",
       " ('vile', 3),\n",
       " ('weather,', 1),\n",
       " ('particularly', 5),\n",
       " ('malignant', 1),\n",
       " ('boot-slitting', 1),\n",
       " ('specimen', 2),\n",
       " ('London', 20),\n",
       " ('slavey.', 1),\n",
       " ('practice,', 2),\n",
       " ('if', 189),\n",
       " ('gentleman', 32),\n",
       " ('walks', 3),\n",
       " ('smelling', 1),\n",
       " ('iodoform,', 1),\n",
       " ('black', 44),\n",
       " ('mark', 5),\n",
       " ('nitrate', 1),\n",
       " ('silver', 1),\n",
       " ('right', 64),\n",
       " ('forefinger,', 2),\n",
       " ('bulge', 1),\n",
       " ('side', 52),\n",
       " ('top-hat', 3),\n",
       " ('show', 16),\n",
       " ('secreted', 1),\n",
       " ('stethoscope,', 1),\n",
       " ('dull,', 1),\n",
       " ('indeed,', 13),\n",
       " ('pronounce', 2),\n",
       " ('active', 4),\n",
       " ('member', 4),\n",
       " ('medical', 9),\n",
       " ('profession.”', 1),\n",
       " ('could', 280),\n",
       " ('help', 39),\n",
       " ('laughing', 4),\n",
       " ('ease', 1),\n",
       " ('explained', 8),\n",
       " ('process', 3),\n",
       " ('deduction.', 1),\n",
       " ('“When', 17),\n",
       " ('hear', 31),\n",
       " ('reasons,”', 1),\n",
       " ('remarked,', 17),\n",
       " ('“the', 5),\n",
       " ('thing', 32),\n",
       " ('appears', 15),\n",
       " ('ridiculously', 1),\n",
       " ('simple', 14),\n",
       " ('easily', 10),\n",
       " ('myself,', 6),\n",
       " ('though', 59),\n",
       " ('successive', 3),\n",
       " ('instance', 4),\n",
       " ('am', 181),\n",
       " ('baffled', 3),\n",
       " ('until', 73),\n",
       " ('explain', 14),\n",
       " ('process.', 2),\n",
       " ('believe', 27),\n",
       " ('good', 87),\n",
       " ('yours.”', 2),\n",
       " ('“Quite', 14),\n",
       " ('so,”', 6),\n",
       " ('answered,', 11),\n",
       " ('lighting', 2),\n",
       " ('cigarette,', 1),\n",
       " ('throwing', 12),\n",
       " ('down', 204),\n",
       " ('armchair.', 2),\n",
       " ('“You', 112),\n",
       " ('distinction', 1),\n",
       " ('clear.', 5),\n",
       " ('For', 26),\n",
       " ('example,', 5),\n",
       " ('frequently', 9),\n",
       " ('steps', 19),\n",
       " ('lead', 9),\n",
       " ('hall', 12),\n",
       " ('room.”', 7),\n",
       " ('“Frequently.”', 1),\n",
       " ('“How', 21),\n",
       " ('often?”', 1),\n",
       " ('“Well,', 67),\n",
       " ('hundreds', 3),\n",
       " ('times.”', 1),\n",
       " ('“Then', 39),\n",
       " ('many', 37),\n",
       " ('there?”', 4),\n",
       " ('many?', 1),\n",
       " ('don’t', 23),\n",
       " ('know.”', 6),\n",
       " ('so!', 3),\n",
       " ('observed.', 5),\n",
       " ('seen.', 5),\n",
       " ('That', 45),\n",
       " ('point.', 9),\n",
       " ('Now,', 28),\n",
       " ('seventeen', 1),\n",
       " ('steps,', 3),\n",
       " ('because', 14),\n",
       " ('both', 39),\n",
       " ('By', 17),\n",
       " ('way,', 17),\n",
       " ('interested', 9),\n",
       " ('problems,', 2),\n",
       " ('enough', 41),\n",
       " ('chronicle', 2),\n",
       " ('two', 128),\n",
       " ('trifling', 4),\n",
       " ('experiences,', 1),\n",
       " ('this.”', 3),\n",
       " ('sheet', 11),\n",
       " ('thick,', 3),\n",
       " ('pink-tinted', 1),\n",
       " ('notepaper', 1),\n",
       " ('lying', 14),\n",
       " ('open', 37),\n",
       " ('table.', 14),\n",
       " ('last', 74),\n",
       " ('post,”', 1),\n",
       " ('he.', 61),\n",
       " ('“Read', 1),\n",
       " ('aloud.”', 1),\n",
       " ('note', 18),\n",
       " ('undated,', 1),\n",
       " ('without', 79),\n",
       " ('either', 32),\n",
       " ('signature', 4),\n",
       " ('address.', 7),\n",
       " ('“There', 34),\n",
       " ('call', 39),\n",
       " ('to-night,', 5),\n",
       " ('quarter', 6),\n",
       " ('eight', 11),\n",
       " ('o’clock,”', 1),\n",
       " ('said,', 21),\n",
       " ('“a', 2),\n",
       " ('desires', 2),\n",
       " ('consult', 7),\n",
       " ('matter', 75),\n",
       " ('deepest', 5),\n",
       " ('moment.', 4),\n",
       " ('Your', 20),\n",
       " ('recent', 5),\n",
       " ('services', 1),\n",
       " ('royal', 4),\n",
       " ('houses', 6),\n",
       " ('Europe', 3),\n",
       " ('safely', 4),\n",
       " ('trusted', 2),\n",
       " ('matters', 13),\n",
       " ('importance', 8),\n",
       " ('can', 165),\n",
       " ('exaggerated.', 1),\n",
       " ('we', 413),\n",
       " ('quarters', 4),\n",
       " ('received.', 1),\n",
       " ('Be', 2),\n",
       " ('then', 92),\n",
       " ('hour,', 2),\n",
       " ('amiss', 2),\n",
       " ('visitor', 14),\n",
       " ('wear', 6),\n",
       " ('mask.”', 1),\n",
       " ('“This', 29),\n",
       " ('indeed', 20),\n",
       " ('mystery,”', 2),\n",
       " ('“What', 48),\n",
       " ('means?”', 1),\n",
       " ('data', 3),\n",
       " ('yet.', 5),\n",
       " ('capital', 3),\n",
       " ('mistake', 4),\n",
       " ('theorise', 1),\n",
       " ('data.', 4),\n",
       " ('Insensibly', 1),\n",
       " ('begins', 1),\n",
       " ('twist', 4),\n",
       " ('facts', 25),\n",
       " ('suit', 9),\n",
       " ('theories,', 1),\n",
       " ('instead', 7),\n",
       " ('theories', 3),\n",
       " ('facts.', 4),\n",
       " ('itself.', 2),\n",
       " ('What', 48),\n",
       " ('it?”', 24),\n",
       " ('carefully', 8),\n",
       " ('examined', 12),\n",
       " ('writing,', 3),\n",
       " ('paper', 26),\n",
       " ('written.', 1),\n",
       " ('“The', 73),\n",
       " ('wrote', 14),\n",
       " ('presumably', 2),\n",
       " ('well', 48),\n",
       " ('do,”', 3),\n",
       " ('endeavouring', 6),\n",
       " ('imitate', 1),\n",
       " ('companion’s', 4),\n",
       " ('processes.', 1),\n",
       " ('“Such', 2),\n",
       " ('bought', 4),\n",
       " ('crown', 1),\n",
       " ('packet.', 1),\n",
       " ('peculiarly', 1),\n",
       " ('stiff.”', 1),\n",
       " ('“Peculiar—that', 1),\n",
       " ('word,”', 1),\n",
       " ('Holmes.', 78),\n",
       " ('all.', 19),\n",
       " ('Hold', 1),\n",
       " ('light.”', 1),\n",
       " ('so,', 26),\n",
       " ('large', 38),\n",
       " ('“E”', 1),\n",
       " ('small', 75),\n",
       " ('“g,”', 1),\n",
       " ('“P,”', 1),\n",
       " ('“G”', 1),\n",
       " ('“t”', 1),\n",
       " ('woven', 2),\n",
       " ('texture', 1),\n",
       " ('paper.', 3),\n",
       " ('make', 76),\n",
       " ('that?”', 10),\n",
       " ('asked', 45),\n",
       " ('name', 43),\n",
       " ('maker,', 1),\n",
       " ('doubt;', 1),\n",
       " ('monogram,', 1),\n",
       " ('rather.”', 1),\n",
       " ('“Not', 18),\n",
       " ('‘G’', 1),\n",
       " ('‘t’', 1),\n",
       " ('stands', 6),\n",
       " ('‘Gesellschaft,’', 1),\n",
       " ('German', 10),\n",
       " ('‘Company.’', 1),\n",
       " ('customary', 1),\n",
       " ('contraction', 2),\n",
       " ('like', 90),\n",
       " ('‘Co.’', 1),\n",
       " ('‘P,’', 1),\n",
       " ('course,', 26),\n",
       " ('‘Papier.’', 1),\n",
       " ('Now', 20),\n",
       " ('‘Eg.’', 1),\n",
       " ('Let', 15),\n",
       " ('glance', 15),\n",
       " ('Continental', 1),\n",
       " ('Gazetteer.”', 1),\n",
       " ('took', 84),\n",
       " ('heavy', 26),\n",
       " ('brown', 13),\n",
       " ('volume', 4),\n",
       " ('shelves.', 1),\n",
       " ('“Eglow,', 1),\n",
       " ('Eglonitz—here', 1),\n",
       " ('are,', 18),\n",
       " ('Egria.', 1),\n",
       " ('German-speaking', 1),\n",
       " ('country—in', 1),\n",
       " ('Bohemia,', 4),\n",
       " ('far', 51),\n",
       " ('Carlsbad.', 1),\n",
       " ('‘Remarkable', 1),\n",
       " ('being', 45),\n",
       " ('scene', 12),\n",
       " ('death', 12),\n",
       " ('Wallenstein,', 1),\n",
       " ('its', 83),\n",
       " ('numerous', 1),\n",
       " ('glass-factories', 1),\n",
       " ('paper-mills.’', 1),\n",
       " ('Ha,', 2),\n",
       " ('ha,', 1),\n",
       " ('boy,', 6),\n",
       " ('what', 264),\n",
       " ('sparkled,', 1),\n",
       " ('sent', 20),\n",
       " ('great', 55),\n",
       " ('blue', 20),\n",
       " ('triumphant', 1),\n",
       " ('cloud', 4),\n",
       " ('cigarette.', 1),\n",
       " ('made', 102),\n",
       " ('Bohemia,”', 1),\n",
       " ('said.', 15),\n",
       " ('“Precisely.', 4),\n",
       " ('German.', 1),\n",
       " ('Do', 18),\n",
       " ('peculiar', 19),\n",
       " ('construction', 1),\n",
       " ('sentence—‘This', 1),\n",
       " ('received.’', 1),\n",
       " ('Frenchman', 1),\n",
       " ('Russian', 1),\n",
       " ('written', 20),\n",
       " ('that.', 18),\n",
       " ('uncourteous', 1),\n",
       " ('verbs.', 1),\n",
       " ('only', 155),\n",
       " ('remains,', 2),\n",
       " ('therefore,', 11),\n",
       " ('discover', 4),\n",
       " ('wanted', 11),\n",
       " ('writes', 1),\n",
       " ('prefers', 1),\n",
       " ('wearing', 3),\n",
       " ('mask', 2),\n",
       " ('showing', 6),\n",
       " ('face.', 22),\n",
       " ('here', 55),\n",
       " ('comes,', 1),\n",
       " ('mistaken,', 3),\n",
       " ('resolve', 2),\n",
       " ('doubts.”', 2),\n",
       " ('sharp', 14),\n",
       " ('sound', 22),\n",
       " ('horses’', 2),\n",
       " ('hoofs', 1),\n",
       " ('grating', 1),\n",
       " ('wheels', 6),\n",
       " ('curb,', 1),\n",
       " ('followed', 23),\n",
       " ('pull', 1),\n",
       " ('bell.', 4),\n",
       " ('whistled.', 1),\n",
       " ('“A', 22),\n",
       " ('pair,', 1),\n",
       " ('sound,”', 1),\n",
       " ('“Yes,”', 3),\n",
       " ('continued,', 6),\n",
       " ('glancing', 23),\n",
       " ('window.', 6),\n",
       " ('nice', 7),\n",
       " ('brougham', 3),\n",
       " ('pair', 11),\n",
       " ('beauties.', 1),\n",
       " ('hundred', 18),\n",
       " ('fifty', 8),\n",
       " ('guineas', 2),\n",
       " ('apiece.', 3),\n",
       " ('There’s', 6),\n",
       " ('money', 24),\n",
       " ('case,', 19),\n",
       " ('nothing', 78),\n",
       " ('else.”', 3),\n",
       " ('think', 132),\n",
       " ('better', 40),\n",
       " ('go,', 8),\n",
       " ('Holmes.”', 5),\n",
       " ('bit,', 1),\n",
       " ('Doctor.', 1),\n",
       " ('Stay', 1),\n",
       " ('are.', 8),\n",
       " ('lost', 21),\n",
       " ('Boswell.', 1),\n",
       " ('promises', 4),\n",
       " ('interesting.', 5),\n",
       " ('pity', 5),\n",
       " ('miss', 5),\n",
       " ('it.”', 35),\n",
       " ('“But', 72),\n",
       " ('client—”', 1),\n",
       " ('“Never', 5),\n",
       " ('want', 25),\n",
       " ('help,', 6),\n",
       " ('Here', 17),\n",
       " ('comes.', 1),\n",
       " ('Sit', 2),\n",
       " ('Doctor,', 12),\n",
       " ('best', 26),\n",
       " ...]"
      ]
     },
     "execution_count": 30,
     "metadata": {},
     "output_type": "execute_result"
    }
   ],
   "source": [
    "wordCounts_d.collect()"
   ]
  },
  {
   "cell_type": "markdown",
   "metadata": {},
   "source": [
    "### Ref: https://www.analyticsvidhya.com/blog/2016/10/using-pyspark-to-perform-transformations-and-actions-on-rdd/"
   ]
  },
  {
   "cell_type": "code",
   "execution_count": null,
   "metadata": {},
   "outputs": [],
   "source": [
    "fdata_stop_filtered = sc.textFile('1661-0.txt')"
   ]
  },
  {
   "cell_type": "markdown",
   "metadata": {},
   "source": [
    "### converts to lowercase and splits every line in text file using space"
   ]
  },
  {
   "cell_type": "code",
   "execution_count": 70,
   "metadata": {},
   "outputs": [],
   "source": [
    "\n",
    "def change(lines):\n",
    "    lines = lines.lower()\n",
    "    lines = lines.split()\n",
    "    return lines"
   ]
  },
  {
   "cell_type": "code",
   "execution_count": 71,
   "metadata": {},
   "outputs": [],
   "source": [
    "fdata_rdd2 = fdata_stop_filtered.flatMap(change)"
   ]
  },
  {
   "cell_type": "markdown",
   "metadata": {},
   "source": [
    "### Remove the specific stopwords from the document"
   ]
  },
  {
   "cell_type": "code",
   "execution_count": 74,
   "metadata": {},
   "outputs": [],
   "source": [
    "stopwords = [\"i\", \"me\", \"my\", \"myself\", \"we\", \"our\", \"ours\", \"ourselves\", \"you\", \"your\", \"yours\", \"yourself\", \"yourselves\", \"he\", \"him\", \"his\", \"himself\", \"she\", \"her\", \"hers\", \"herself\", \"it\", \"its\", \"itself\", \"they\", \"them\", \"their\", \"theirs\", \"themselves\", \"what\", \"which\", \"who\", \"whom\", \"this\", \"that\", \"these\", \"those\", \"am\", \"is\", \"are\", \"was\", \"were\", \"be\", \"been\", \"being\", \"have\", \"has\", \"had\", \"having\", \"do\", \"does\", \"did\", \"doing\", \"a\", \"an\", \"the\", \"and\", \"but\", \"if\", \"or\", \"because\", \"as\", \"until\", \"while\", \"of\", \"at\", \"by\", \"for\", \"with\", \"about\", \"against\", \"between\", \"into\", \"through\", \"during\", \"before\", \"after\", \"above\", \"below\", \"to\", \"from\", \"up\", \"down\", \"in\", \"out\", \"on\", \"off\", \"over\", \"under\", \"again\", \"further\", \"then\", \"once\", \"here\", \"there\", \"when\", \"where\", \"why\", \"how\", \"all\", \"any\", \"both\", \"each\", \"few\", \"more\", \"most\", \"other\", \"some\", \"such\", \"no\", \"nor\", \"not\", \"only\", \"own\", \"same\", \"so\", \"than\", \"too\", \"very\", \"s\", \"t\", \"can\", \"will\", \"just\", \"don\", \"should\", \"now\"]\n",
    "fdata_rdd3 = fdata_rdd2.filter(lambda x: x not in stopwords)"
   ]
  },
  {
   "cell_type": "markdown",
   "metadata": {},
   "source": [
    "### First 10 words in the corpus"
   ]
  },
  {
   "cell_type": "code",
   "execution_count": 77,
   "metadata": {},
   "outputs": [
    {
     "data": {
      "text/plain": [
       "['project',\n",
       " 'gutenberg',\n",
       " 'ebook',\n",
       " 'adventures',\n",
       " 'sherlock',\n",
       " 'holmes,',\n",
       " 'arthur',\n",
       " 'conan',\n",
       " 'doyle',\n",
       " 'this']"
      ]
     },
     "execution_count": 77,
     "metadata": {},
     "output_type": "execute_result"
    }
   ],
   "source": [
    "fdata_rdd3.take(10)"
   ]
  },
  {
   "cell_type": "code",
   "execution_count": 82,
   "metadata": {},
   "outputs": [],
   "source": [
    "fdata_rdd3_map = fdata_rdd3.map(lambda x: (x, 1))\n",
    "fdata_rdd3_group = fdata_rdd3_map.groupByKey()"
   ]
  },
  {
   "cell_type": "markdown",
   "metadata": {},
   "source": [
    "### Calculates frequencies of words in the text file without stop words"
   ]
  },
  {
   "cell_type": "code",
   "execution_count": 86,
   "metadata": {},
   "outputs": [],
   "source": [
    "fdata_freq = fdata_rdd3_group.mapValues(sum).map(lambda x: (x[1],x[0])).sortByKey(False)"
   ]
  },
  {
   "cell_type": "code",
   "execution_count": 117,
   "metadata": {},
   "outputs": [
    {
     "data": {
      "text/plain": [
       "[(2878, 'and'),\n",
       " (2721, 'to'),\n",
       " (2533, 'i'),\n",
       " (1761, 'in'),\n",
       " (1604, 'that'),\n",
       " (1371, 'was'),\n",
       " (1278, 'he'),\n",
       " (1267, 'it'),\n",
       " (1176, 'you'),\n",
       " (1146, 'his')]"
      ]
     },
     "execution_count": 117,
     "metadata": {},
     "output_type": "execute_result"
    }
   ],
   "source": [
    "# top 10 word frequencies without wordcount\n",
    "fdata_freq.take(10)"
   ]
  },
  {
   "cell_type": "code",
   "execution_count": 134,
   "metadata": {},
   "outputs": [],
   "source": [
    "df = pd.DataFrame(fdata_freq.take(10), columns=[\"Count\", \"Words\"])"
   ]
  },
  {
   "cell_type": "markdown",
   "metadata": {},
   "source": [
    "### Words with top 10 frequency in the book"
   ]
  },
  {
   "cell_type": "code",
   "execution_count": 135,
   "metadata": {},
   "outputs": [
    {
     "data": {
      "text/html": [
       "<div>\n",
       "<style scoped>\n",
       "    .dataframe tbody tr th:only-of-type {\n",
       "        vertical-align: middle;\n",
       "    }\n",
       "\n",
       "    .dataframe tbody tr th {\n",
       "        vertical-align: top;\n",
       "    }\n",
       "\n",
       "    .dataframe thead th {\n",
       "        text-align: right;\n",
       "    }\n",
       "</style>\n",
       "<table border=\"1\" class=\"dataframe\">\n",
       "  <thead>\n",
       "    <tr style=\"text-align: right;\">\n",
       "      <th></th>\n",
       "      <th>Count</th>\n",
       "      <th>Words</th>\n",
       "    </tr>\n",
       "  </thead>\n",
       "  <tbody>\n",
       "    <tr>\n",
       "      <th>0</th>\n",
       "      <td>2878</td>\n",
       "      <td>and</td>\n",
       "    </tr>\n",
       "    <tr>\n",
       "      <th>1</th>\n",
       "      <td>2721</td>\n",
       "      <td>to</td>\n",
       "    </tr>\n",
       "    <tr>\n",
       "      <th>2</th>\n",
       "      <td>2533</td>\n",
       "      <td>i</td>\n",
       "    </tr>\n",
       "    <tr>\n",
       "      <th>3</th>\n",
       "      <td>1761</td>\n",
       "      <td>in</td>\n",
       "    </tr>\n",
       "    <tr>\n",
       "      <th>4</th>\n",
       "      <td>1604</td>\n",
       "      <td>that</td>\n",
       "    </tr>\n",
       "    <tr>\n",
       "      <th>5</th>\n",
       "      <td>1371</td>\n",
       "      <td>was</td>\n",
       "    </tr>\n",
       "    <tr>\n",
       "      <th>6</th>\n",
       "      <td>1278</td>\n",
       "      <td>he</td>\n",
       "    </tr>\n",
       "    <tr>\n",
       "      <th>7</th>\n",
       "      <td>1267</td>\n",
       "      <td>it</td>\n",
       "    </tr>\n",
       "    <tr>\n",
       "      <th>8</th>\n",
       "      <td>1176</td>\n",
       "      <td>you</td>\n",
       "    </tr>\n",
       "    <tr>\n",
       "      <th>9</th>\n",
       "      <td>1146</td>\n",
       "      <td>his</td>\n",
       "    </tr>\n",
       "  </tbody>\n",
       "</table>\n",
       "</div>"
      ],
      "text/plain": [
       "   Count Words\n",
       "0   2878   and\n",
       "1   2721    to\n",
       "2   2533     i\n",
       "3   1761    in\n",
       "4   1604  that\n",
       "5   1371   was\n",
       "6   1278    he\n",
       "7   1267    it\n",
       "8   1176   you\n",
       "9   1146   his"
      ]
     },
     "execution_count": 135,
     "metadata": {},
     "output_type": "execute_result"
    }
   ],
   "source": [
    "df"
   ]
  },
  {
   "cell_type": "markdown",
   "metadata": {},
   "source": [
    "### Plotting top 10 words and their frequencies"
   ]
  },
  {
   "cell_type": "code",
   "execution_count": 11,
   "metadata": {},
   "outputs": [
    {
     "data": {
      "application/vnd.plotly.v1+json": {
       "config": {
        "plotlyServerURL": "https://plot.ly"
       },
       "data": [
        {
         "alignmentgroup": "True",
         "hovertemplate": "Count=%{x}<br>Words=%{y}<extra></extra>",
         "legendgroup": "",
         "marker": {
          "color": "#636efa",
          "pattern": {
           "shape": ""
          }
         },
         "name": "",
         "offsetgroup": "",
         "orientation": "h",
         "showlegend": false,
         "textposition": "auto",
         "type": "bar",
         "x": [
          2878,
          2721,
          2533,
          1761,
          1604,
          1371,
          1278,
          1267,
          1176,
          1146
         ],
         "xaxis": "x",
         "y": [
          "and",
          "to",
          "i",
          "in",
          "that",
          "was",
          "he",
          "it",
          "you",
          "his"
         ],
         "yaxis": "y"
        }
       ],
       "layout": {
        "barmode": "relative",
        "legend": {
         "tracegroupgap": 0
        },
        "template": {
         "data": {
          "bar": [
           {
            "error_x": {
             "color": "#2a3f5f"
            },
            "error_y": {
             "color": "#2a3f5f"
            },
            "marker": {
             "line": {
              "color": "#E5ECF6",
              "width": 0.5
             },
             "pattern": {
              "fillmode": "overlay",
              "size": 10,
              "solidity": 0.2
             }
            },
            "type": "bar"
           }
          ],
          "barpolar": [
           {
            "marker": {
             "line": {
              "color": "#E5ECF6",
              "width": 0.5
             },
             "pattern": {
              "fillmode": "overlay",
              "size": 10,
              "solidity": 0.2
             }
            },
            "type": "barpolar"
           }
          ],
          "carpet": [
           {
            "aaxis": {
             "endlinecolor": "#2a3f5f",
             "gridcolor": "white",
             "linecolor": "white",
             "minorgridcolor": "white",
             "startlinecolor": "#2a3f5f"
            },
            "baxis": {
             "endlinecolor": "#2a3f5f",
             "gridcolor": "white",
             "linecolor": "white",
             "minorgridcolor": "white",
             "startlinecolor": "#2a3f5f"
            },
            "type": "carpet"
           }
          ],
          "choropleth": [
           {
            "colorbar": {
             "outlinewidth": 0,
             "ticks": ""
            },
            "type": "choropleth"
           }
          ],
          "contour": [
           {
            "colorbar": {
             "outlinewidth": 0,
             "ticks": ""
            },
            "colorscale": [
             [
              0,
              "#0d0887"
             ],
             [
              0.1111111111111111,
              "#46039f"
             ],
             [
              0.2222222222222222,
              "#7201a8"
             ],
             [
              0.3333333333333333,
              "#9c179e"
             ],
             [
              0.4444444444444444,
              "#bd3786"
             ],
             [
              0.5555555555555556,
              "#d8576b"
             ],
             [
              0.6666666666666666,
              "#ed7953"
             ],
             [
              0.7777777777777778,
              "#fb9f3a"
             ],
             [
              0.8888888888888888,
              "#fdca26"
             ],
             [
              1,
              "#f0f921"
             ]
            ],
            "type": "contour"
           }
          ],
          "contourcarpet": [
           {
            "colorbar": {
             "outlinewidth": 0,
             "ticks": ""
            },
            "type": "contourcarpet"
           }
          ],
          "heatmap": [
           {
            "colorbar": {
             "outlinewidth": 0,
             "ticks": ""
            },
            "colorscale": [
             [
              0,
              "#0d0887"
             ],
             [
              0.1111111111111111,
              "#46039f"
             ],
             [
              0.2222222222222222,
              "#7201a8"
             ],
             [
              0.3333333333333333,
              "#9c179e"
             ],
             [
              0.4444444444444444,
              "#bd3786"
             ],
             [
              0.5555555555555556,
              "#d8576b"
             ],
             [
              0.6666666666666666,
              "#ed7953"
             ],
             [
              0.7777777777777778,
              "#fb9f3a"
             ],
             [
              0.8888888888888888,
              "#fdca26"
             ],
             [
              1,
              "#f0f921"
             ]
            ],
            "type": "heatmap"
           }
          ],
          "heatmapgl": [
           {
            "colorbar": {
             "outlinewidth": 0,
             "ticks": ""
            },
            "colorscale": [
             [
              0,
              "#0d0887"
             ],
             [
              0.1111111111111111,
              "#46039f"
             ],
             [
              0.2222222222222222,
              "#7201a8"
             ],
             [
              0.3333333333333333,
              "#9c179e"
             ],
             [
              0.4444444444444444,
              "#bd3786"
             ],
             [
              0.5555555555555556,
              "#d8576b"
             ],
             [
              0.6666666666666666,
              "#ed7953"
             ],
             [
              0.7777777777777778,
              "#fb9f3a"
             ],
             [
              0.8888888888888888,
              "#fdca26"
             ],
             [
              1,
              "#f0f921"
             ]
            ],
            "type": "heatmapgl"
           }
          ],
          "histogram": [
           {
            "marker": {
             "pattern": {
              "fillmode": "overlay",
              "size": 10,
              "solidity": 0.2
             }
            },
            "type": "histogram"
           }
          ],
          "histogram2d": [
           {
            "colorbar": {
             "outlinewidth": 0,
             "ticks": ""
            },
            "colorscale": [
             [
              0,
              "#0d0887"
             ],
             [
              0.1111111111111111,
              "#46039f"
             ],
             [
              0.2222222222222222,
              "#7201a8"
             ],
             [
              0.3333333333333333,
              "#9c179e"
             ],
             [
              0.4444444444444444,
              "#bd3786"
             ],
             [
              0.5555555555555556,
              "#d8576b"
             ],
             [
              0.6666666666666666,
              "#ed7953"
             ],
             [
              0.7777777777777778,
              "#fb9f3a"
             ],
             [
              0.8888888888888888,
              "#fdca26"
             ],
             [
              1,
              "#f0f921"
             ]
            ],
            "type": "histogram2d"
           }
          ],
          "histogram2dcontour": [
           {
            "colorbar": {
             "outlinewidth": 0,
             "ticks": ""
            },
            "colorscale": [
             [
              0,
              "#0d0887"
             ],
             [
              0.1111111111111111,
              "#46039f"
             ],
             [
              0.2222222222222222,
              "#7201a8"
             ],
             [
              0.3333333333333333,
              "#9c179e"
             ],
             [
              0.4444444444444444,
              "#bd3786"
             ],
             [
              0.5555555555555556,
              "#d8576b"
             ],
             [
              0.6666666666666666,
              "#ed7953"
             ],
             [
              0.7777777777777778,
              "#fb9f3a"
             ],
             [
              0.8888888888888888,
              "#fdca26"
             ],
             [
              1,
              "#f0f921"
             ]
            ],
            "type": "histogram2dcontour"
           }
          ],
          "mesh3d": [
           {
            "colorbar": {
             "outlinewidth": 0,
             "ticks": ""
            },
            "type": "mesh3d"
           }
          ],
          "parcoords": [
           {
            "line": {
             "colorbar": {
              "outlinewidth": 0,
              "ticks": ""
             }
            },
            "type": "parcoords"
           }
          ],
          "pie": [
           {
            "automargin": true,
            "type": "pie"
           }
          ],
          "scatter": [
           {
            "marker": {
             "colorbar": {
              "outlinewidth": 0,
              "ticks": ""
             }
            },
            "type": "scatter"
           }
          ],
          "scatter3d": [
           {
            "line": {
             "colorbar": {
              "outlinewidth": 0,
              "ticks": ""
             }
            },
            "marker": {
             "colorbar": {
              "outlinewidth": 0,
              "ticks": ""
             }
            },
            "type": "scatter3d"
           }
          ],
          "scattercarpet": [
           {
            "marker": {
             "colorbar": {
              "outlinewidth": 0,
              "ticks": ""
             }
            },
            "type": "scattercarpet"
           }
          ],
          "scattergeo": [
           {
            "marker": {
             "colorbar": {
              "outlinewidth": 0,
              "ticks": ""
             }
            },
            "type": "scattergeo"
           }
          ],
          "scattergl": [
           {
            "marker": {
             "colorbar": {
              "outlinewidth": 0,
              "ticks": ""
             }
            },
            "type": "scattergl"
           }
          ],
          "scattermapbox": [
           {
            "marker": {
             "colorbar": {
              "outlinewidth": 0,
              "ticks": ""
             }
            },
            "type": "scattermapbox"
           }
          ],
          "scatterpolar": [
           {
            "marker": {
             "colorbar": {
              "outlinewidth": 0,
              "ticks": ""
             }
            },
            "type": "scatterpolar"
           }
          ],
          "scatterpolargl": [
           {
            "marker": {
             "colorbar": {
              "outlinewidth": 0,
              "ticks": ""
             }
            },
            "type": "scatterpolargl"
           }
          ],
          "scatterternary": [
           {
            "marker": {
             "colorbar": {
              "outlinewidth": 0,
              "ticks": ""
             }
            },
            "type": "scatterternary"
           }
          ],
          "surface": [
           {
            "colorbar": {
             "outlinewidth": 0,
             "ticks": ""
            },
            "colorscale": [
             [
              0,
              "#0d0887"
             ],
             [
              0.1111111111111111,
              "#46039f"
             ],
             [
              0.2222222222222222,
              "#7201a8"
             ],
             [
              0.3333333333333333,
              "#9c179e"
             ],
             [
              0.4444444444444444,
              "#bd3786"
             ],
             [
              0.5555555555555556,
              "#d8576b"
             ],
             [
              0.6666666666666666,
              "#ed7953"
             ],
             [
              0.7777777777777778,
              "#fb9f3a"
             ],
             [
              0.8888888888888888,
              "#fdca26"
             ],
             [
              1,
              "#f0f921"
             ]
            ],
            "type": "surface"
           }
          ],
          "table": [
           {
            "cells": {
             "fill": {
              "color": "#EBF0F8"
             },
             "line": {
              "color": "white"
             }
            },
            "header": {
             "fill": {
              "color": "#C8D4E3"
             },
             "line": {
              "color": "white"
             }
            },
            "type": "table"
           }
          ]
         },
         "layout": {
          "annotationdefaults": {
           "arrowcolor": "#2a3f5f",
           "arrowhead": 0,
           "arrowwidth": 1
          },
          "autotypenumbers": "strict",
          "coloraxis": {
           "colorbar": {
            "outlinewidth": 0,
            "ticks": ""
           }
          },
          "colorscale": {
           "diverging": [
            [
             0,
             "#8e0152"
            ],
            [
             0.1,
             "#c51b7d"
            ],
            [
             0.2,
             "#de77ae"
            ],
            [
             0.3,
             "#f1b6da"
            ],
            [
             0.4,
             "#fde0ef"
            ],
            [
             0.5,
             "#f7f7f7"
            ],
            [
             0.6,
             "#e6f5d0"
            ],
            [
             0.7,
             "#b8e186"
            ],
            [
             0.8,
             "#7fbc41"
            ],
            [
             0.9,
             "#4d9221"
            ],
            [
             1,
             "#276419"
            ]
           ],
           "sequential": [
            [
             0,
             "#0d0887"
            ],
            [
             0.1111111111111111,
             "#46039f"
            ],
            [
             0.2222222222222222,
             "#7201a8"
            ],
            [
             0.3333333333333333,
             "#9c179e"
            ],
            [
             0.4444444444444444,
             "#bd3786"
            ],
            [
             0.5555555555555556,
             "#d8576b"
            ],
            [
             0.6666666666666666,
             "#ed7953"
            ],
            [
             0.7777777777777778,
             "#fb9f3a"
            ],
            [
             0.8888888888888888,
             "#fdca26"
            ],
            [
             1,
             "#f0f921"
            ]
           ],
           "sequentialminus": [
            [
             0,
             "#0d0887"
            ],
            [
             0.1111111111111111,
             "#46039f"
            ],
            [
             0.2222222222222222,
             "#7201a8"
            ],
            [
             0.3333333333333333,
             "#9c179e"
            ],
            [
             0.4444444444444444,
             "#bd3786"
            ],
            [
             0.5555555555555556,
             "#d8576b"
            ],
            [
             0.6666666666666666,
             "#ed7953"
            ],
            [
             0.7777777777777778,
             "#fb9f3a"
            ],
            [
             0.8888888888888888,
             "#fdca26"
            ],
            [
             1,
             "#f0f921"
            ]
           ]
          },
          "colorway": [
           "#636efa",
           "#EF553B",
           "#00cc96",
           "#ab63fa",
           "#FFA15A",
           "#19d3f3",
           "#FF6692",
           "#B6E880",
           "#FF97FF",
           "#FECB52"
          ],
          "font": {
           "color": "#2a3f5f"
          },
          "geo": {
           "bgcolor": "white",
           "lakecolor": "white",
           "landcolor": "#E5ECF6",
           "showlakes": true,
           "showland": true,
           "subunitcolor": "white"
          },
          "hoverlabel": {
           "align": "left"
          },
          "hovermode": "closest",
          "mapbox": {
           "style": "light"
          },
          "paper_bgcolor": "white",
          "plot_bgcolor": "#E5ECF6",
          "polar": {
           "angularaxis": {
            "gridcolor": "white",
            "linecolor": "white",
            "ticks": ""
           },
           "bgcolor": "#E5ECF6",
           "radialaxis": {
            "gridcolor": "white",
            "linecolor": "white",
            "ticks": ""
           }
          },
          "scene": {
           "xaxis": {
            "backgroundcolor": "#E5ECF6",
            "gridcolor": "white",
            "gridwidth": 2,
            "linecolor": "white",
            "showbackground": true,
            "ticks": "",
            "zerolinecolor": "white"
           },
           "yaxis": {
            "backgroundcolor": "#E5ECF6",
            "gridcolor": "white",
            "gridwidth": 2,
            "linecolor": "white",
            "showbackground": true,
            "ticks": "",
            "zerolinecolor": "white"
           },
           "zaxis": {
            "backgroundcolor": "#E5ECF6",
            "gridcolor": "white",
            "gridwidth": 2,
            "linecolor": "white",
            "showbackground": true,
            "ticks": "",
            "zerolinecolor": "white"
           }
          },
          "shapedefaults": {
           "line": {
            "color": "#2a3f5f"
           }
          },
          "ternary": {
           "aaxis": {
            "gridcolor": "white",
            "linecolor": "white",
            "ticks": ""
           },
           "baxis": {
            "gridcolor": "white",
            "linecolor": "white",
            "ticks": ""
           },
           "bgcolor": "#E5ECF6",
           "caxis": {
            "gridcolor": "white",
            "linecolor": "white",
            "ticks": ""
           }
          },
          "title": {
           "x": 0.05
          },
          "xaxis": {
           "automargin": true,
           "gridcolor": "white",
           "linecolor": "white",
           "ticks": "",
           "title": {
            "standoff": 15
           },
           "zerolinecolor": "white",
           "zerolinewidth": 2
          },
          "yaxis": {
           "automargin": true,
           "gridcolor": "white",
           "linecolor": "white",
           "ticks": "",
           "title": {
            "standoff": 15
           },
           "zerolinecolor": "white",
           "zerolinewidth": 2
          }
         }
        },
        "title": {
         "text": "Top 10 word frequency count"
        },
        "xaxis": {
         "anchor": "y",
         "domain": [
          0,
          1
         ],
         "title": {
          "text": "Count"
         }
        },
        "yaxis": {
         "anchor": "x",
         "domain": [
          0,
          1
         ],
         "title": {
          "text": "Words"
         }
        }
       }
      },
      "text/html": [
       "<div>                            <div id=\"7deda342-fa9c-4760-98c1-a76df1968bb9\" class=\"plotly-graph-div\" style=\"height:525px; width:100%;\"></div>            <script type=\"text/javascript\">                require([\"plotly\"], function(Plotly) {                    window.PLOTLYENV=window.PLOTLYENV || {};                                    if (document.getElementById(\"7deda342-fa9c-4760-98c1-a76df1968bb9\")) {                    Plotly.newPlot(                        \"7deda342-fa9c-4760-98c1-a76df1968bb9\",                        [{\"alignmentgroup\":\"True\",\"hovertemplate\":\"Count=%{x}<br>Words=%{y}<extra></extra>\",\"legendgroup\":\"\",\"marker\":{\"color\":\"#636efa\",\"pattern\":{\"shape\":\"\"}},\"name\":\"\",\"offsetgroup\":\"\",\"orientation\":\"h\",\"showlegend\":false,\"textposition\":\"auto\",\"type\":\"bar\",\"x\":[2878,2721,2533,1761,1604,1371,1278,1267,1176,1146],\"xaxis\":\"x\",\"y\":[\"and\",\"to\",\"i\",\"in\",\"that\",\"was\",\"he\",\"it\",\"you\",\"his\"],\"yaxis\":\"y\"}],                        {\"barmode\":\"relative\",\"legend\":{\"tracegroupgap\":0},\"template\":{\"data\":{\"bar\":[{\"error_x\":{\"color\":\"#2a3f5f\"},\"error_y\":{\"color\":\"#2a3f5f\"},\"marker\":{\"line\":{\"color\":\"#E5ECF6\",\"width\":0.5},\"pattern\":{\"fillmode\":\"overlay\",\"size\":10,\"solidity\":0.2}},\"type\":\"bar\"}],\"barpolar\":[{\"marker\":{\"line\":{\"color\":\"#E5ECF6\",\"width\":0.5},\"pattern\":{\"fillmode\":\"overlay\",\"size\":10,\"solidity\":0.2}},\"type\":\"barpolar\"}],\"carpet\":[{\"aaxis\":{\"endlinecolor\":\"#2a3f5f\",\"gridcolor\":\"white\",\"linecolor\":\"white\",\"minorgridcolor\":\"white\",\"startlinecolor\":\"#2a3f5f\"},\"baxis\":{\"endlinecolor\":\"#2a3f5f\",\"gridcolor\":\"white\",\"linecolor\":\"white\",\"minorgridcolor\":\"white\",\"startlinecolor\":\"#2a3f5f\"},\"type\":\"carpet\"}],\"choropleth\":[{\"colorbar\":{\"outlinewidth\":0,\"ticks\":\"\"},\"type\":\"choropleth\"}],\"contour\":[{\"colorbar\":{\"outlinewidth\":0,\"ticks\":\"\"},\"colorscale\":[[0.0,\"#0d0887\"],[0.1111111111111111,\"#46039f\"],[0.2222222222222222,\"#7201a8\"],[0.3333333333333333,\"#9c179e\"],[0.4444444444444444,\"#bd3786\"],[0.5555555555555556,\"#d8576b\"],[0.6666666666666666,\"#ed7953\"],[0.7777777777777778,\"#fb9f3a\"],[0.8888888888888888,\"#fdca26\"],[1.0,\"#f0f921\"]],\"type\":\"contour\"}],\"contourcarpet\":[{\"colorbar\":{\"outlinewidth\":0,\"ticks\":\"\"},\"type\":\"contourcarpet\"}],\"heatmap\":[{\"colorbar\":{\"outlinewidth\":0,\"ticks\":\"\"},\"colorscale\":[[0.0,\"#0d0887\"],[0.1111111111111111,\"#46039f\"],[0.2222222222222222,\"#7201a8\"],[0.3333333333333333,\"#9c179e\"],[0.4444444444444444,\"#bd3786\"],[0.5555555555555556,\"#d8576b\"],[0.6666666666666666,\"#ed7953\"],[0.7777777777777778,\"#fb9f3a\"],[0.8888888888888888,\"#fdca26\"],[1.0,\"#f0f921\"]],\"type\":\"heatmap\"}],\"heatmapgl\":[{\"colorbar\":{\"outlinewidth\":0,\"ticks\":\"\"},\"colorscale\":[[0.0,\"#0d0887\"],[0.1111111111111111,\"#46039f\"],[0.2222222222222222,\"#7201a8\"],[0.3333333333333333,\"#9c179e\"],[0.4444444444444444,\"#bd3786\"],[0.5555555555555556,\"#d8576b\"],[0.6666666666666666,\"#ed7953\"],[0.7777777777777778,\"#fb9f3a\"],[0.8888888888888888,\"#fdca26\"],[1.0,\"#f0f921\"]],\"type\":\"heatmapgl\"}],\"histogram\":[{\"marker\":{\"pattern\":{\"fillmode\":\"overlay\",\"size\":10,\"solidity\":0.2}},\"type\":\"histogram\"}],\"histogram2d\":[{\"colorbar\":{\"outlinewidth\":0,\"ticks\":\"\"},\"colorscale\":[[0.0,\"#0d0887\"],[0.1111111111111111,\"#46039f\"],[0.2222222222222222,\"#7201a8\"],[0.3333333333333333,\"#9c179e\"],[0.4444444444444444,\"#bd3786\"],[0.5555555555555556,\"#d8576b\"],[0.6666666666666666,\"#ed7953\"],[0.7777777777777778,\"#fb9f3a\"],[0.8888888888888888,\"#fdca26\"],[1.0,\"#f0f921\"]],\"type\":\"histogram2d\"}],\"histogram2dcontour\":[{\"colorbar\":{\"outlinewidth\":0,\"ticks\":\"\"},\"colorscale\":[[0.0,\"#0d0887\"],[0.1111111111111111,\"#46039f\"],[0.2222222222222222,\"#7201a8\"],[0.3333333333333333,\"#9c179e\"],[0.4444444444444444,\"#bd3786\"],[0.5555555555555556,\"#d8576b\"],[0.6666666666666666,\"#ed7953\"],[0.7777777777777778,\"#fb9f3a\"],[0.8888888888888888,\"#fdca26\"],[1.0,\"#f0f921\"]],\"type\":\"histogram2dcontour\"}],\"mesh3d\":[{\"colorbar\":{\"outlinewidth\":0,\"ticks\":\"\"},\"type\":\"mesh3d\"}],\"parcoords\":[{\"line\":{\"colorbar\":{\"outlinewidth\":0,\"ticks\":\"\"}},\"type\":\"parcoords\"}],\"pie\":[{\"automargin\":true,\"type\":\"pie\"}],\"scatter\":[{\"marker\":{\"colorbar\":{\"outlinewidth\":0,\"ticks\":\"\"}},\"type\":\"scatter\"}],\"scatter3d\":[{\"line\":{\"colorbar\":{\"outlinewidth\":0,\"ticks\":\"\"}},\"marker\":{\"colorbar\":{\"outlinewidth\":0,\"ticks\":\"\"}},\"type\":\"scatter3d\"}],\"scattercarpet\":[{\"marker\":{\"colorbar\":{\"outlinewidth\":0,\"ticks\":\"\"}},\"type\":\"scattercarpet\"}],\"scattergeo\":[{\"marker\":{\"colorbar\":{\"outlinewidth\":0,\"ticks\":\"\"}},\"type\":\"scattergeo\"}],\"scattergl\":[{\"marker\":{\"colorbar\":{\"outlinewidth\":0,\"ticks\":\"\"}},\"type\":\"scattergl\"}],\"scattermapbox\":[{\"marker\":{\"colorbar\":{\"outlinewidth\":0,\"ticks\":\"\"}},\"type\":\"scattermapbox\"}],\"scatterpolar\":[{\"marker\":{\"colorbar\":{\"outlinewidth\":0,\"ticks\":\"\"}},\"type\":\"scatterpolar\"}],\"scatterpolargl\":[{\"marker\":{\"colorbar\":{\"outlinewidth\":0,\"ticks\":\"\"}},\"type\":\"scatterpolargl\"}],\"scatterternary\":[{\"marker\":{\"colorbar\":{\"outlinewidth\":0,\"ticks\":\"\"}},\"type\":\"scatterternary\"}],\"surface\":[{\"colorbar\":{\"outlinewidth\":0,\"ticks\":\"\"},\"colorscale\":[[0.0,\"#0d0887\"],[0.1111111111111111,\"#46039f\"],[0.2222222222222222,\"#7201a8\"],[0.3333333333333333,\"#9c179e\"],[0.4444444444444444,\"#bd3786\"],[0.5555555555555556,\"#d8576b\"],[0.6666666666666666,\"#ed7953\"],[0.7777777777777778,\"#fb9f3a\"],[0.8888888888888888,\"#fdca26\"],[1.0,\"#f0f921\"]],\"type\":\"surface\"}],\"table\":[{\"cells\":{\"fill\":{\"color\":\"#EBF0F8\"},\"line\":{\"color\":\"white\"}},\"header\":{\"fill\":{\"color\":\"#C8D4E3\"},\"line\":{\"color\":\"white\"}},\"type\":\"table\"}]},\"layout\":{\"annotationdefaults\":{\"arrowcolor\":\"#2a3f5f\",\"arrowhead\":0,\"arrowwidth\":1},\"autotypenumbers\":\"strict\",\"coloraxis\":{\"colorbar\":{\"outlinewidth\":0,\"ticks\":\"\"}},\"colorscale\":{\"diverging\":[[0,\"#8e0152\"],[0.1,\"#c51b7d\"],[0.2,\"#de77ae\"],[0.3,\"#f1b6da\"],[0.4,\"#fde0ef\"],[0.5,\"#f7f7f7\"],[0.6,\"#e6f5d0\"],[0.7,\"#b8e186\"],[0.8,\"#7fbc41\"],[0.9,\"#4d9221\"],[1,\"#276419\"]],\"sequential\":[[0.0,\"#0d0887\"],[0.1111111111111111,\"#46039f\"],[0.2222222222222222,\"#7201a8\"],[0.3333333333333333,\"#9c179e\"],[0.4444444444444444,\"#bd3786\"],[0.5555555555555556,\"#d8576b\"],[0.6666666666666666,\"#ed7953\"],[0.7777777777777778,\"#fb9f3a\"],[0.8888888888888888,\"#fdca26\"],[1.0,\"#f0f921\"]],\"sequentialminus\":[[0.0,\"#0d0887\"],[0.1111111111111111,\"#46039f\"],[0.2222222222222222,\"#7201a8\"],[0.3333333333333333,\"#9c179e\"],[0.4444444444444444,\"#bd3786\"],[0.5555555555555556,\"#d8576b\"],[0.6666666666666666,\"#ed7953\"],[0.7777777777777778,\"#fb9f3a\"],[0.8888888888888888,\"#fdca26\"],[1.0,\"#f0f921\"]]},\"colorway\":[\"#636efa\",\"#EF553B\",\"#00cc96\",\"#ab63fa\",\"#FFA15A\",\"#19d3f3\",\"#FF6692\",\"#B6E880\",\"#FF97FF\",\"#FECB52\"],\"font\":{\"color\":\"#2a3f5f\"},\"geo\":{\"bgcolor\":\"white\",\"lakecolor\":\"white\",\"landcolor\":\"#E5ECF6\",\"showlakes\":true,\"showland\":true,\"subunitcolor\":\"white\"},\"hoverlabel\":{\"align\":\"left\"},\"hovermode\":\"closest\",\"mapbox\":{\"style\":\"light\"},\"paper_bgcolor\":\"white\",\"plot_bgcolor\":\"#E5ECF6\",\"polar\":{\"angularaxis\":{\"gridcolor\":\"white\",\"linecolor\":\"white\",\"ticks\":\"\"},\"bgcolor\":\"#E5ECF6\",\"radialaxis\":{\"gridcolor\":\"white\",\"linecolor\":\"white\",\"ticks\":\"\"}},\"scene\":{\"xaxis\":{\"backgroundcolor\":\"#E5ECF6\",\"gridcolor\":\"white\",\"gridwidth\":2,\"linecolor\":\"white\",\"showbackground\":true,\"ticks\":\"\",\"zerolinecolor\":\"white\"},\"yaxis\":{\"backgroundcolor\":\"#E5ECF6\",\"gridcolor\":\"white\",\"gridwidth\":2,\"linecolor\":\"white\",\"showbackground\":true,\"ticks\":\"\",\"zerolinecolor\":\"white\"},\"zaxis\":{\"backgroundcolor\":\"#E5ECF6\",\"gridcolor\":\"white\",\"gridwidth\":2,\"linecolor\":\"white\",\"showbackground\":true,\"ticks\":\"\",\"zerolinecolor\":\"white\"}},\"shapedefaults\":{\"line\":{\"color\":\"#2a3f5f\"}},\"ternary\":{\"aaxis\":{\"gridcolor\":\"white\",\"linecolor\":\"white\",\"ticks\":\"\"},\"baxis\":{\"gridcolor\":\"white\",\"linecolor\":\"white\",\"ticks\":\"\"},\"bgcolor\":\"#E5ECF6\",\"caxis\":{\"gridcolor\":\"white\",\"linecolor\":\"white\",\"ticks\":\"\"}},\"title\":{\"x\":0.05},\"xaxis\":{\"automargin\":true,\"gridcolor\":\"white\",\"linecolor\":\"white\",\"ticks\":\"\",\"title\":{\"standoff\":15},\"zerolinecolor\":\"white\",\"zerolinewidth\":2},\"yaxis\":{\"automargin\":true,\"gridcolor\":\"white\",\"linecolor\":\"white\",\"ticks\":\"\",\"title\":{\"standoff\":15},\"zerolinecolor\":\"white\",\"zerolinewidth\":2}}},\"title\":{\"text\":\"Top 10 word frequency count\"},\"xaxis\":{\"anchor\":\"y\",\"domain\":[0.0,1.0],\"title\":{\"text\":\"Count\"}},\"yaxis\":{\"anchor\":\"x\",\"domain\":[0.0,1.0],\"title\":{\"text\":\"Words\"}}},                        {\"responsive\": true}                    ).then(function(){\n",
       "                            \n",
       "var gd = document.getElementById('7deda342-fa9c-4760-98c1-a76df1968bb9');\n",
       "var x = new MutationObserver(function (mutations, observer) {{\n",
       "        var display = window.getComputedStyle(gd).display;\n",
       "        if (!display || display === 'none') {{\n",
       "            console.log([gd, 'removed!']);\n",
       "            Plotly.purge(gd);\n",
       "            observer.disconnect();\n",
       "        }}\n",
       "}});\n",
       "\n",
       "// Listen for the removal of the full notebook cells\n",
       "var notebookContainer = gd.closest('#notebook-container');\n",
       "if (notebookContainer) {{\n",
       "    x.observe(notebookContainer, {childList: true});\n",
       "}}\n",
       "\n",
       "// Listen for the clearing of the current output cell\n",
       "var outputEl = gd.closest('.output');\n",
       "if (outputEl) {{\n",
       "    x.observe(outputEl, {childList: true});\n",
       "}}\n",
       "\n",
       "                        })                };                });            </script>        </div>"
      ]
     },
     "metadata": {},
     "output_type": "display_data"
    }
   ],
   "source": [
    "fig1 = px.bar(df, x='Count', y = 'Words',title=\"Top 10 word frequency count\")\n",
    "fig1.show()"
   ]
  }
 ],
 "metadata": {
  "kernelspec": {
   "display_name": "Python 3",
   "language": "python",
   "name": "python3"
  },
  "language_info": {
   "codemirror_mode": {
    "name": "ipython",
    "version": 3
   },
   "file_extension": ".py",
   "mimetype": "text/x-python",
   "name": "python",
   "nbconvert_exporter": "python",
   "pygments_lexer": "ipython3",
   "version": "3.8.5"
  }
 },
 "nbformat": 4,
 "nbformat_minor": 5
}
